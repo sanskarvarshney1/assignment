{
 "cells": [
  {
   "cell_type": "code",
   "execution_count": 2,
   "id": "11a32b6e-4895-493b-a553-032dd3c30d3d",
   "metadata": {},
   "outputs": [],
   "source": [
    "#1 Who developed Python Language ?\n",
    "#Guido van Rossum in the year of 1991"
   ]
  },
  {
   "cell_type": "code",
   "execution_count": 3,
   "id": "83e78d24-9343-48e6-832c-0d3a25ba4dbe",
   "metadata": {},
   "outputs": [],
   "source": [
    "#2 Which Type Of Programming Does Python Support?\n",
    "#Python emphasizes support for common programming methodologies such as data structure design and object-oriented programming, and encourages programmers to write readable (and thus maintainable) code by providing an elegant but not overly cryptic notation."
   ]
  },
  {
   "cell_type": "code",
   "execution_count": 4,
   "id": "5742252a-4f09-44fa-89fe-9ff1faa10b9f",
   "metadata": {},
   "outputs": [],
   "source": [
    "#3 Is python sensitve when dealing with identifier?\n",
    "# python is Case-sensitive."
   ]
  },
  {
   "cell_type": "code",
   "execution_count": 5,
   "id": "51821232-2021-48de-9071-7f77d1392e6d",
   "metadata": {},
   "outputs": [],
   "source": [
    "#4 Which is the correct extension of python docs?\n",
    "#(.py)"
   ]
  },
  {
   "cell_type": "code",
   "execution_count": 6,
   "id": "cfe19481-788c-4ae9-a9dc-118f13cdd630",
   "metadata": {},
   "outputs": [],
   "source": [
    "#5 is Python code complied or Interpreted ?\n",
    "#Ans yes"
   ]
  },
  {
   "cell_type": "code",
   "execution_count": 7,
   "id": "f3af3fcc-d5b4-41c8-9759-9c172e7b6e7f",
   "metadata": {},
   "outputs": [],
   "source": [
    "#6 Name a few block of code used to Define Python Language\n",
    "#Ans: indentation"
   ]
  },
  {
   "cell_type": "code",
   "execution_count": 8,
   "id": "38596b5c-fd87-4d83-a961-962bc632faf9",
   "metadata": {},
   "outputs": [],
   "source": [
    "#7 State a character used to give single line comment in python\n",
    "#Ans:use symbol hash(#)"
   ]
  },
  {
   "cell_type": "code",
   "execution_count": 9,
   "id": "909a37b9-5645-47da-b028-eb25fa8e17c8",
   "metadata": {},
   "outputs": [],
   "source": [
    "#8 Which of the following functions can help us to find the version of python that we are currently working on?\n",
    "#ANS:import sys sys.version"
   ]
  },
  {
   "cell_type": "code",
   "execution_count": 10,
   "id": "5e200598-1203-4451-964b-4d6d8d76562d",
   "metadata": {},
   "outputs": [],
   "source": [
    "#9 Python supports the creation of anonymous functions at runtime, using a construct called __________\n",
    "#Ans Lambda"
   ]
  },
  {
   "cell_type": "code",
   "execution_count": 14,
   "id": "522b1356-254d-4709-8488-f82f92825020",
   "metadata": {},
   "outputs": [],
   "source": [
    "#10 what does pip stand for python?\n",
    "#Ans:Python pip is the package manager for Python packages. We can use pip to install packages that do not come with Python"
   ]
  },
  {
   "cell_type": "code",
   "execution_count": 15,
   "id": "a51976cb-70a1-4162-8342-69e92daf5ce5",
   "metadata": {},
   "outputs": [
    {
     "data": {
      "text/plain": [
       "True"
      ]
     },
     "execution_count": 15,
     "metadata": {},
     "output_type": "execute_result"
    }
   ],
   "source": [
    "#11. Mention few built in function in python\n",
    "#Ans: bool() abs() str() len() type() open() all() sum() pow() any()\n",
    "bool(1+3)"
   ]
  },
  {
   "cell_type": "code",
   "execution_count": 16,
   "id": "1b702f2a-87ea-48dc-976d-8425bb70e411",
   "metadata": {},
   "outputs": [
    {
     "data": {
      "text/plain": [
       "False"
      ]
     },
     "execution_count": 16,
     "metadata": {},
     "output_type": "execute_result"
    }
   ],
   "source": [
    "any([False, False, False])"
   ]
  },
  {
   "cell_type": "code",
   "execution_count": 17,
   "id": "26deacdd-1011-475f-b9d5-305ca4bd8e1f",
   "metadata": {},
   "outputs": [
    {
     "data": {
      "text/plain": [
       "True"
      ]
     },
     "execution_count": 17,
     "metadata": {},
     "output_type": "execute_result"
    }
   ],
   "source": [
    "any([True, False, False])"
   ]
  },
  {
   "cell_type": "code",
   "execution_count": 18,
   "id": "012c5df2-b92f-4eeb-ac76-f09b2a9e6466",
   "metadata": {},
   "outputs": [
    {
     "data": {
      "text/plain": [
       "19900"
      ]
     },
     "execution_count": 18,
     "metadata": {},
     "output_type": "execute_result"
    }
   ],
   "source": [
    "sum(range(200))"
   ]
  },
  {
   "cell_type": "code",
   "execution_count": 20,
   "id": "263b5b84-152a-42c3-800c-0f5b071ed07e",
   "metadata": {},
   "outputs": [
    {
     "data": {
      "text/plain": [
       "498501"
      ]
     },
     "execution_count": 20,
     "metadata": {},
     "output_type": "execute_result"
    }
   ],
   "source": [
    "sum(range(999))"
   ]
  },
  {
   "cell_type": "code",
   "execution_count": 21,
   "id": "f44e1b98-0d0e-4e48-80c7-9f4d343630c7",
   "metadata": {},
   "outputs": [
    {
     "data": {
      "text/plain": [
       "78"
      ]
     },
     "execution_count": 21,
     "metadata": {},
     "output_type": "execute_result"
    }
   ],
   "source": [
    "abs(-78)"
   ]
  },
  {
   "cell_type": "code",
   "execution_count": 22,
   "id": "ee5e9319-27d9-4582-b98d-ea2ae5f07c05",
   "metadata": {},
   "outputs": [],
   "source": [
    "#12. What is max possible length of identifier in python?\n",
    "#Ans:79 characters"
   ]
  },
  {
   "cell_type": "code",
   "execution_count": 25,
   "id": "eab8e33c-5a07-4d23-ae6a-d1e9f30289cb",
   "metadata": {},
   "outputs": [
    {
     "data": {
      "text/plain": [
       "'Simple to Use and Understand.\\nFor newcomers, Python is simple to understand and use. ...\\nFree and Open-Source. \\nProductivity has Increased. \\nInterpreted Language. \\nExtensive library.\\nDynamically Typed. \\nPortability. \\nSupportive community.'"
      ]
     },
     "execution_count": 25,
     "metadata": {},
     "output_type": "execute_result"
    }
   ],
   "source": [
    "#13 What are the benifits of using python?\n",
    "'''Simple to Use and Understand.\n",
    "For newcomers, Python is simple to understand and use. ...\n",
    "Free and Open-Source. \n",
    "Productivity has Increased. \n",
    "Interpreted Language. \n",
    "Extensive library.\n",
    "Dynamically Typed. \n",
    "Portability. \n",
    "Supportive community.'''"
   ]
  },
  {
   "cell_type": "code",
   "execution_count": 26,
   "id": "14525864-ffb6-4bf9-b63e-abbbd5b24f2a",
   "metadata": {},
   "outputs": [],
   "source": [
    "#14. How is memory mannaged in python ?\n",
    "#Understanding Memory allocation is important to any software developer as writing efficient code means writing a memory-efficient code. Memory allocation can be defined as allocating a block of space in the computer memory to a program. In Python memory allocation and deallocation method is automatic as the Python developers created a\n",
    "#for Python so that the user does not have to do manual garbage collection."
   ]
  },
  {
   "cell_type": "code",
   "execution_count": 27,
   "id": "f133e564-87eb-4130-920e-d4716f53d333",
   "metadata": {},
   "outputs": [],
   "source": [
    "#15. How to install python and set a path variable?\n",
    "Ans:'''The complete path of python.exe can be added by:\n",
    "\n",
    "Right-clicking This PC and going to Properties.\n",
    "\n",
    "Clicking on the Advanced system settings in the menu on the left.\n",
    "\n",
    "Clicking on the Environment Variables button o​n the bottom right.\n",
    "\n",
    "In the System variables section, selecting the Path variable and clicking on Edit. The next screen will show all the directories that are currently a part of the PATH variable.\n",
    "\n",
    "Clicking on New and entering Python’s install directory.'''"
   ]
  },
  {
   "cell_type": "code",
   "execution_count": null,
   "id": "f79d2238-3a76-4d4b-ae3e-ffdcd93cc114",
   "metadata": {},
   "outputs": [],
   "source": []
  }
 ],
 "metadata": {
  "kernelspec": {
   "display_name": "Python 3 (ipykernel)",
   "language": "python",
   "name": "python3"
  },
  "language_info": {
   "codemirror_mode": {
    "name": "ipython",
    "version": 3
   },
   "file_extension": ".py",
   "mimetype": "text/x-python",
   "name": "python",
   "nbconvert_exporter": "python",
   "pygments_lexer": "ipython3",
   "version": "3.10.8"
  }
 },
 "nbformat": 4,
 "nbformat_minor": 5
}
